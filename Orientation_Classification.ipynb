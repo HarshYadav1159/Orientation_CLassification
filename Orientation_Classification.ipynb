{
  "nbformat": 4,
  "nbformat_minor": 0,
  "metadata": {
    "colab": {
      "provenance": []
    },
    "kernelspec": {
      "name": "python3",
      "display_name": "Python 3"
    },
    "language_info": {
      "name": "python"
    },
    "accelerator": "TPU",
    "gpuClass": "standard"
  },
  "cells": [
    {
      "cell_type": "code",
      "execution_count": 1,
      "metadata": {
        "colab": {
          "base_uri": "https://localhost:8080/"
        },
        "id": "ZHrdDbjxvdHF",
        "outputId": "f3dc93a2-c0c8-483e-b2c0-f6462197ce9c"
      },
      "outputs": [
        {
          "output_type": "stream",
          "name": "stdout",
          "text": [
            "--2023-02-09 15:25:04--  https://raw.githubusercontent.com/HarshYadav1159/uptrain/main/examples/1_orientation_classification/helper_files/__init__.py\n",
            "Resolving raw.githubusercontent.com (raw.githubusercontent.com)... 185.199.108.133, 185.199.109.133, 185.199.110.133, ...\n",
            "Connecting to raw.githubusercontent.com (raw.githubusercontent.com)|185.199.108.133|:443... connected.\n",
            "HTTP request sent, awaiting response... 200 OK\n",
            "Length: 290 [text/plain]\n",
            "Saving to: ‘__init__.py’\n",
            "\n",
            "\r__init__.py           0%[                    ]       0  --.-KB/s               \r__init__.py         100%[===================>]     290  --.-KB/s    in 0s      \n",
            "\n",
            "2023-02-09 15:25:04 (8.34 MB/s) - ‘__init__.py’ saved [290/290]\n",
            "\n"
          ]
        }
      ],
      "source": [
        "!wget https://raw.githubusercontent.com/HarshYadav1159/uptrain/main/examples/1_orientation_classification/helper_files/__init__.py"
      ]
    },
    {
      "cell_type": "code",
      "source": [
        "!wget https://raw.githubusercontent.com/HarshYadav1159/uptrain/main/examples/1_orientation_classification/helper_files/dataset.py"
      ],
      "metadata": {
        "colab": {
          "base_uri": "https://localhost:8080/"
        },
        "id": "M4DvnG8wv94d",
        "outputId": "be828176-1e8f-4e5d-8f2f-2f39b5e097e7"
      },
      "execution_count": 2,
      "outputs": [
        {
          "output_type": "stream",
          "name": "stdout",
          "text": [
            "--2023-02-09 15:25:04--  https://raw.githubusercontent.com/HarshYadav1159/uptrain/main/examples/1_orientation_classification/helper_files/dataset.py\n",
            "Resolving raw.githubusercontent.com (raw.githubusercontent.com)... 185.199.108.133, 185.199.109.133, 185.199.110.133, ...\n",
            "Connecting to raw.githubusercontent.com (raw.githubusercontent.com)|185.199.108.133|:443... connected.\n",
            "HTTP request sent, awaiting response... 200 OK\n",
            "Length: 10291 (10K) [text/plain]\n",
            "Saving to: ‘dataset.py’\n",
            "\n",
            "\rdataset.py            0%[                    ]       0  --.-KB/s               \rdataset.py          100%[===================>]  10.05K  --.-KB/s    in 0s      \n",
            "\n",
            "2023-02-09 15:25:04 (46.7 MB/s) - ‘dataset.py’ saved [10291/10291]\n",
            "\n"
          ]
        }
      ]
    },
    {
      "cell_type": "code",
      "source": [
        " !wget https://raw.githubusercontent.com/HarshYadav1159/uptrain/main/examples/1_orientation_classification/helper_files/model_logistic_regression.py"
      ],
      "metadata": {
        "colab": {
          "base_uri": "https://localhost:8080/"
        },
        "id": "HBecZpX9v960",
        "outputId": "eaf1923b-fe42-480c-bab7-f81527020139"
      },
      "execution_count": 3,
      "outputs": [
        {
          "output_type": "stream",
          "name": "stdout",
          "text": [
            "--2023-02-09 15:25:04--  https://raw.githubusercontent.com/HarshYadav1159/uptrain/main/examples/1_orientation_classification/helper_files/model_logistic_regression.py\n",
            "Resolving raw.githubusercontent.com (raw.githubusercontent.com)... 185.199.108.133, 185.199.109.133, 185.199.110.133, ...\n",
            "Connecting to raw.githubusercontent.com (raw.githubusercontent.com)|185.199.108.133|:443... connected.\n",
            "HTTP request sent, awaiting response... 200 OK\n",
            "Length: 1975 (1.9K) [text/plain]\n",
            "Saving to: ‘model_logistic_regression.py’\n",
            "\n",
            "\r          model_log   0%[                    ]       0  --.-KB/s               \rmodel_logistic_regr 100%[===================>]   1.93K  --.-KB/s    in 0s      \n",
            "\n",
            "2023-02-09 15:25:05 (23.1 MB/s) - ‘model_logistic_regression.py’ saved [1975/1975]\n",
            "\n"
          ]
        }
      ]
    },
    {
      "cell_type": "code",
      "source": [
        "!wget https://github.com/HarshYadav1159/uptrain/tree/main/examples/1_orientation_classification/helper_files"
      ],
      "metadata": {
        "colab": {
          "base_uri": "https://localhost:8080/"
        },
        "id": "Erwm8f7-v99U",
        "outputId": "56e6d795-6b85-4744-8880-21edc33555bc"
      },
      "execution_count": null,
      "outputs": [
        {
          "output_type": "stream",
          "name": "stdout",
          "text": [
            "--2023-02-09 15:19:11--  https://github.com/HarshYadav1159/uptrain/tree/main/examples/1_orientation_classification/helper_files\n",
            "Resolving github.com (github.com)... 192.30.255.113\n",
            "Connecting to github.com (github.com)|192.30.255.113|:443... connected.\n",
            "HTTP request sent, awaiting response... 200 OK\n",
            "Length: unspecified [text/html]\n",
            "Saving to: ‘helper_files’\n",
            "\n",
            "helper_files            [ <=>                ] 134.63K  --.-KB/s    in 0.02s   \n",
            "\n",
            "2023-02-09 15:19:11 (6.01 MB/s) - ‘helper_files’ saved [137858]\n",
            "\n"
          ]
        }
      ]
    },
    {
      "cell_type": "code",
      "source": [
        "!pip install torch imgaug"
      ],
      "metadata": {
        "colab": {
          "base_uri": "https://localhost:8080/"
        },
        "id": "FqcuC_NCv9_r",
        "outputId": "2b4534de-5929-4d48-e187-b54dd8fc0343"
      },
      "execution_count": 11,
      "outputs": [
        {
          "output_type": "stream",
          "name": "stdout",
          "text": [
            "Looking in indexes: https://pypi.org/simple, https://us-python.pkg.dev/colab-wheels/public/simple/\n",
            "Requirement already satisfied: torch in /usr/local/lib/python3.8/dist-packages (1.13.1+cu116)\n",
            "Requirement already satisfied: imgaug in /usr/local/lib/python3.8/dist-packages (0.4.0)\n",
            "Requirement already satisfied: typing-extensions in /usr/local/lib/python3.8/dist-packages (from torch) (4.4.0)\n",
            "Requirement already satisfied: Pillow in /usr/local/lib/python3.8/dist-packages (from imgaug) (7.1.2)\n",
            "Requirement already satisfied: opencv-python in /usr/local/lib/python3.8/dist-packages (from imgaug) (4.6.0.66)\n",
            "Requirement already satisfied: matplotlib in /usr/local/lib/python3.8/dist-packages (from imgaug) (3.2.2)\n",
            "Requirement already satisfied: scikit-image>=0.14.2 in /usr/local/lib/python3.8/dist-packages (from imgaug) (0.18.3)\n",
            "Requirement already satisfied: Shapely in /usr/local/lib/python3.8/dist-packages (from imgaug) (2.0.1)\n",
            "Requirement already satisfied: six in /usr/local/lib/python3.8/dist-packages (from imgaug) (1.15.0)\n",
            "Requirement already satisfied: numpy>=1.15 in /usr/local/lib/python3.8/dist-packages (from imgaug) (1.21.6)\n",
            "Requirement already satisfied: imageio in /usr/local/lib/python3.8/dist-packages (from imgaug) (2.9.0)\n",
            "Requirement already satisfied: scipy in /usr/local/lib/python3.8/dist-packages (from imgaug) (1.7.3)\n",
            "Requirement already satisfied: networkx>=2.0 in /usr/local/lib/python3.8/dist-packages (from scikit-image>=0.14.2->imgaug) (3.0)\n",
            "Requirement already satisfied: PyWavelets>=1.1.1 in /usr/local/lib/python3.8/dist-packages (from scikit-image>=0.14.2->imgaug) (1.4.1)\n",
            "Requirement already satisfied: tifffile>=2019.7.26 in /usr/local/lib/python3.8/dist-packages (from scikit-image>=0.14.2->imgaug) (2023.1.23.1)\n",
            "Requirement already satisfied: kiwisolver>=1.0.1 in /usr/local/lib/python3.8/dist-packages (from matplotlib->imgaug) (1.4.4)\n",
            "Requirement already satisfied: python-dateutil>=2.1 in /usr/local/lib/python3.8/dist-packages (from matplotlib->imgaug) (2.8.2)\n",
            "Requirement already satisfied: pyparsing!=2.0.4,!=2.1.2,!=2.1.6,>=2.0.1 in /usr/local/lib/python3.8/dist-packages (from matplotlib->imgaug) (3.0.9)\n",
            "Requirement already satisfied: cycler>=0.10 in /usr/local/lib/python3.8/dist-packages (from matplotlib->imgaug) (0.11.0)\n"
          ]
        }
      ]
    },
    {
      "cell_type": "code",
      "source": [
        "pip install uptrain"
      ],
      "metadata": {
        "colab": {
          "base_uri": "https://localhost:8080/"
        },
        "id": "XnZQSrRCv-CN",
        "outputId": "224a121f-57f4-4c03-8162-250ef9db074e"
      },
      "execution_count": 12,
      "outputs": [
        {
          "output_type": "stream",
          "name": "stdout",
          "text": [
            "Looking in indexes: https://pypi.org/simple, https://us-python.pkg.dev/colab-wheels/public/simple/\n",
            "Collecting uptrain\n",
            "  Downloading uptrain-0.0.3-py3-none-any.whl (48 kB)\n",
            "\u001b[?25l     \u001b[90m━━━━━━━━━━━━━━━━━━━━━━━━━━━━━━━━━━━━━━━━\u001b[0m \u001b[32m0.0/48.3 KB\u001b[0m \u001b[31m?\u001b[0m eta \u001b[36m-:--:--\u001b[0m\r\u001b[2K     \u001b[90m━━━━━━━━━━━━━━━━━━━━━━━━━━━━━━━━━━━━━━━━\u001b[0m \u001b[32m48.3/48.3 KB\u001b[0m \u001b[31m3.2 MB/s\u001b[0m eta \u001b[36m0:00:00\u001b[0m\n",
            "\u001b[?25hRequirement already satisfied: pandas>=1.0.0 in /usr/local/lib/python3.8/dist-packages (from uptrain) (1.3.5)\n",
            "Requirement already satisfied: plotly>=5.0.0 in /usr/local/lib/python3.8/dist-packages (from uptrain) (5.5.0)\n",
            "Requirement already satisfied: scikit-learn>=0.24.2 in /usr/local/lib/python3.8/dist-packages (from uptrain) (1.0.2)\n",
            "Requirement already satisfied: pydantic>=1.9.0 in /usr/local/lib/python3.8/dist-packages (from uptrain) (1.10.4)\n",
            "Requirement already satisfied: pytz>=2017.3 in /usr/local/lib/python3.8/dist-packages (from pandas>=1.0.0->uptrain) (2022.7.1)\n",
            "Requirement already satisfied: python-dateutil>=2.7.3 in /usr/local/lib/python3.8/dist-packages (from pandas>=1.0.0->uptrain) (2.8.2)\n",
            "Requirement already satisfied: numpy>=1.17.3 in /usr/local/lib/python3.8/dist-packages (from pandas>=1.0.0->uptrain) (1.21.6)\n",
            "Requirement already satisfied: six in /usr/local/lib/python3.8/dist-packages (from plotly>=5.0.0->uptrain) (1.15.0)\n",
            "Requirement already satisfied: tenacity>=6.2.0 in /usr/local/lib/python3.8/dist-packages (from plotly>=5.0.0->uptrain) (8.1.0)\n",
            "Requirement already satisfied: typing-extensions>=4.2.0 in /usr/local/lib/python3.8/dist-packages (from pydantic>=1.9.0->uptrain) (4.4.0)\n",
            "Requirement already satisfied: joblib>=0.11 in /usr/local/lib/python3.8/dist-packages (from scikit-learn>=0.24.2->uptrain) (1.2.0)\n",
            "Requirement already satisfied: threadpoolctl>=2.0.0 in /usr/local/lib/python3.8/dist-packages (from scikit-learn>=0.24.2->uptrain) (3.1.0)\n",
            "Requirement already satisfied: scipy>=1.1.0 in /usr/local/lib/python3.8/dist-packages (from scikit-learn>=0.24.2->uptrain) (1.7.3)\n",
            "Installing collected packages: uptrain\n",
            "Successfully installed uptrain-0.0.3\n"
          ]
        }
      ]
    },
    {
      "cell_type": "code",
      "source": [
        "!wget https://raw.githubusercontent.com/HarshYadav1159/uptrain/main/examples/1_orientation_classification/helper_files/model_tensorflow.py"
      ],
      "metadata": {
        "colab": {
          "base_uri": "https://localhost:8080/"
        },
        "id": "mk_jyKs0v-E1",
        "outputId": "70b233b5-759f-49e3-c23e-b102c73f43cc"
      },
      "execution_count": 4,
      "outputs": [
        {
          "output_type": "stream",
          "name": "stdout",
          "text": [
            "--2023-02-09 15:25:48--  https://raw.githubusercontent.com/HarshYadav1159/uptrain/main/examples/1_orientation_classification/helper_files/model_tensorflow.py\n",
            "Resolving raw.githubusercontent.com (raw.githubusercontent.com)... 185.199.108.133, 185.199.109.133, 185.199.110.133, ...\n",
            "Connecting to raw.githubusercontent.com (raw.githubusercontent.com)|185.199.108.133|:443... connected.\n",
            "HTTP request sent, awaiting response... 200 OK\n",
            "Length: 2487 (2.4K) [text/plain]\n",
            "Saving to: ‘model_tensorflow.py’\n",
            "\n",
            "\rmodel_tensorflow.py   0%[                    ]       0  --.-KB/s               \rmodel_tensorflow.py 100%[===================>]   2.43K  --.-KB/s    in 0s      \n",
            "\n",
            "2023-02-09 15:25:49 (10.6 MB/s) - ‘model_tensorflow.py’ saved [2487/2487]\n",
            "\n"
          ]
        }
      ]
    },
    {
      "cell_type": "code",
      "source": [
        "!wget https://raw.githubusercontent.com/HarshYadav1159/uptrain/main/examples/1_orientation_classification/helper_files/model_torch.py"
      ],
      "metadata": {
        "id": "tVHJ8Dzwv-HI",
        "colab": {
          "base_uri": "https://localhost:8080/"
        },
        "outputId": "b3d049a5-8ec3-468c-b494-9f4e439b67db"
      },
      "execution_count": 5,
      "outputs": [
        {
          "output_type": "stream",
          "name": "stdout",
          "text": [
            "--2023-02-09 15:26:20--  https://raw.githubusercontent.com/HarshYadav1159/uptrain/main/examples/1_orientation_classification/helper_files/model_torch.py\n",
            "Resolving raw.githubusercontent.com (raw.githubusercontent.com)... 185.199.108.133, 185.199.109.133, 185.199.111.133, ...\n",
            "Connecting to raw.githubusercontent.com (raw.githubusercontent.com)|185.199.108.133|:443... connected.\n",
            "HTTP request sent, awaiting response... 200 OK\n",
            "Length: 3108 (3.0K) [text/plain]\n",
            "Saving to: ‘model_torch.py’\n",
            "\n",
            "\rmodel_torch.py        0%[                    ]       0  --.-KB/s               \rmodel_torch.py      100%[===================>]   3.04K  --.-KB/s    in 0s      \n",
            "\n",
            "2023-02-09 15:26:20 (52.9 MB/s) - ‘model_torch.py’ saved [3108/3108]\n",
            "\n"
          ]
        }
      ]
    },
    {
      "cell_type": "code",
      "source": [
        "!wget https://raw.githubusercontent.com/HarshYadav1159/uptrain/main/examples/1_orientation_classification/helper_files/pushup_signal.py"
      ],
      "metadata": {
        "id": "laK9mzUrv-Jk",
        "colab": {
          "base_uri": "https://localhost:8080/"
        },
        "outputId": "0ba2a695-7983-45b2-eb8a-6cb6a14b1a8d"
      },
      "execution_count": 6,
      "outputs": [
        {
          "output_type": "stream",
          "name": "stdout",
          "text": [
            "--2023-02-09 15:26:49--  https://raw.githubusercontent.com/HarshYadav1159/uptrain/main/examples/1_orientation_classification/helper_files/pushup_signal.py\n",
            "Resolving raw.githubusercontent.com (raw.githubusercontent.com)... 185.199.109.133, 185.199.111.133, 185.199.110.133, ...\n",
            "Connecting to raw.githubusercontent.com (raw.githubusercontent.com)|185.199.109.133|:443... connected.\n",
            "HTTP request sent, awaiting response... 200 OK\n",
            "Length: 1922 (1.9K) [text/plain]\n",
            "Saving to: ‘pushup_signal.py’\n",
            "\n",
            "\rpushup_signal.py      0%[                    ]       0  --.-KB/s               \rpushup_signal.py    100%[===================>]   1.88K  --.-KB/s    in 0s      \n",
            "\n",
            "2023-02-09 15:26:49 (17.2 MB/s) - ‘pushup_signal.py’ saved [1922/1922]\n",
            "\n"
          ]
        }
      ]
    },
    {
      "cell_type": "code",
      "source": [
        "from dataset import KpsDataset, read_json, write_json, plot_all_cluster"
      ],
      "metadata": {
        "id": "jGECPf2iv-MC"
      },
      "execution_count": 7,
      "outputs": []
    },
    {
      "cell_type": "code",
      "source": [
        "from dataset import plot_all_cluster"
      ],
      "metadata": {
        "id": "TazS0MfCv-Pg"
      },
      "execution_count": 8,
      "outputs": []
    },
    {
      "cell_type": "code",
      "source": [
        "from pushup_signal import body_length_signal"
      ],
      "metadata": {
        "id": "z7zkUzpfzueb"
      },
      "execution_count": 9,
      "outputs": []
    },
    {
      "cell_type": "code",
      "source": [
        "import os\n",
        "import subprocess\n",
        "import zipfile\n",
        "import numpy as np\n",
        "import torch\n",
        "import uptrain"
      ],
      "metadata": {
        "id": "PoBcux6tzwcj"
      },
      "execution_count": 13,
      "outputs": []
    },
    {
      "cell_type": "code",
      "source": [
        "data_dir = \"data\"\n",
        "remote_url = \"https://oodles-dev-training-data.s3.amazonaws.com/data.zip\"\n",
        "orig_training_file = 'data/training_data.json'\n",
        "if not os.path.exists(data_dir):\n",
        "    print(\"Starting to download example dataset...\")\n",
        "    try:\n",
        "        # Most Linux distributions have Wget installed by default.\n",
        "        # Below command is to install wget for MacOS\n",
        "        wget_installed_ok = subprocess.call(\"brew install wget\", shell=True, stdout=subprocess.DEVNULL, stderr=subprocess.STDOUT)\n",
        "        print(\"Successfully installed wget\")\n",
        "    except:\n",
        "        dummy = 1\n",
        "    try:\n",
        "        if not os.path.exists(\"data.zip\"):\n",
        "            file_downloaded_ok = subprocess.call(\"wget \" + remote_url, shell=True, stdout=subprocess.DEVNULL, stderr=subprocess.STDOUT)\n",
        "            print(\"Data downloaded\")\n",
        "        with zipfile.ZipFile(\"data.zip\", 'r') as zip_ref:\n",
        "            zip_ref.extractall(\"./\")\n",
        "        print(\"Prepared Example Dataset\")\n",
        "        os.remove(\"data.zip\")\n",
        "    except Exception as e:\n",
        "        print(e)\n",
        "        print(\"Could not load training data\")\n",
        "        print(\"Please follow following steps to manually download data\")\n",
        "        print(\"Step 1: Paste the link https://oodles-dev-training-data.s3.amazonaws.com/data.zip in your browser\")\n",
        "        print(\"Step 2: Once the zip file is downloaded, unzip it here (i.e. YOUR_LOC/uptrain/examples/1_orientation_classification/\")\n",
        "else:\n",
        "    print(\"Example dataset already present\")"
      ],
      "metadata": {
        "colab": {
          "base_uri": "https://localhost:8080/"
        },
        "id": "gSOIEVNZzwez",
        "outputId": "6e7068db-d1e0-40ee-804a-9385d01bdeaa"
      },
      "execution_count": 14,
      "outputs": [
        {
          "output_type": "stream",
          "name": "stdout",
          "text": [
            "Starting to download example dataset...\n",
            "Successfully installed wget\n",
            "Data downloaded\n",
            "Prepared Example Dataset\n"
          ]
        }
      ]
    },
    {
      "cell_type": "code",
      "source": [
        "# Training data\n",
        "training_file = 'data/training_data.json'\n",
        "\n",
        "# A testing dataset to evaluate model performance\n",
        "golden_testing_file = 'data/golden_testing_data.json'\n",
        "\n",
        "# The data-points which the models sees in production\n",
        "real_world_test_cases = 'data/real_world_testing_data.json'\n",
        "\n",
        "# To annotate the collected data points, we extract the ground truth from a master annotation file \n",
        "# (we can also import from any other annotation pipelines such as an annotation job on Mechanical turk).\n",
        "annotation_args = {'master_file': 'data/master_annotation_data.json'}\n",
        "\n",
        "# Let's visualize some of the training examples\n",
        "training_data = read_json(training_file, dataframe=True)\n",
        "training_data.head()"
      ],
      "metadata": {
        "colab": {
          "base_uri": "https://localhost:8080/",
          "height": 299
        },
        "id": "XdpjTC2Nzwhv",
        "outputId": "584737e7-745e-43d3-abf9-07d603f9a876"
      },
      "execution_count": 15,
      "outputs": [
        {
          "output_type": "execute_result",
          "data": {
            "text/plain": [
              "            id  gt      Nose_X      Nose_Y  Left_Eye_X  Left_Eye_Y  \\\n",
              "0  12002202098   1  536.832198  175.195562  275.183835  299.200492   \n",
              "1  11004300163   1  127.299427  213.304615  120.006179  213.098156   \n",
              "2  18100208242   0  342.735809   75.173884  347.639763   69.066162   \n",
              "3  18100204340   0  335.262419  161.525842  340.358734  155.666068   \n",
              "4  12100104261   0  255.488160   62.442478  256.765451   58.603055   \n",
              "\n",
              "   Right_Eye_X  Right_Eye_Y  Left_Ear_X  Left_Ear_Y  ...  Right_Hip_X  \\\n",
              "0   321.438219    53.586762  438.831630  196.469141  ...   355.320493   \n",
              "1   119.749502   220.877945  123.240242  213.496218  ...   282.739062   \n",
              "2   337.646757    69.463328  354.332650   70.183796  ...   327.693125   \n",
              "3   329.570863   154.843509  347.034712  154.827196  ...   316.727216   \n",
              "4   251.489867    58.323107  255.327531   55.634296  ...   235.763698   \n",
              "\n",
              "   Right_Hip_Y  Left_Knee_X  Left_Knee_Y  Right_Knee_X  Right_Knee_Y  \\\n",
              "0   352.771307   282.603256   245.372110    -71.727270    148.854694   \n",
              "1   217.173672   331.887746   122.399542    369.934428    153.331971   \n",
              "2   175.678139   373.687116   236.403840    330.044019    238.719585   \n",
              "3   218.696415   375.741803   250.993843    285.306140    252.504808   \n",
              "4   136.902009   277.832912   177.679435    229.566259    191.052507   \n",
              "\n",
              "   Left_Ankle_X  Left_Ankle_Y  Right_Ankle_X  Right_Ankle_Y  \n",
              "0    377.204408    118.812093     368.630415      32.683708  \n",
              "1    407.764187     54.115847     373.738996     228.353284  \n",
              "2    383.867725    289.895923     335.013380     292.018822  \n",
              "3    384.364024    298.382275     275.523553     298.044853  \n",
              "4    284.397434    213.477405     224.158806     239.154790  \n",
              "\n",
              "[5 rows x 36 columns]"
            ],
            "text/html": [
              "\n",
              "  <div id=\"df-e383bc15-1d35-4c68-aa77-53909efbb838\">\n",
              "    <div class=\"colab-df-container\">\n",
              "      <div>\n",
              "<style scoped>\n",
              "    .dataframe tbody tr th:only-of-type {\n",
              "        vertical-align: middle;\n",
              "    }\n",
              "\n",
              "    .dataframe tbody tr th {\n",
              "        vertical-align: top;\n",
              "    }\n",
              "\n",
              "    .dataframe thead th {\n",
              "        text-align: right;\n",
              "    }\n",
              "</style>\n",
              "<table border=\"1\" class=\"dataframe\">\n",
              "  <thead>\n",
              "    <tr style=\"text-align: right;\">\n",
              "      <th></th>\n",
              "      <th>id</th>\n",
              "      <th>gt</th>\n",
              "      <th>Nose_X</th>\n",
              "      <th>Nose_Y</th>\n",
              "      <th>Left_Eye_X</th>\n",
              "      <th>Left_Eye_Y</th>\n",
              "      <th>Right_Eye_X</th>\n",
              "      <th>Right_Eye_Y</th>\n",
              "      <th>Left_Ear_X</th>\n",
              "      <th>Left_Ear_Y</th>\n",
              "      <th>...</th>\n",
              "      <th>Right_Hip_X</th>\n",
              "      <th>Right_Hip_Y</th>\n",
              "      <th>Left_Knee_X</th>\n",
              "      <th>Left_Knee_Y</th>\n",
              "      <th>Right_Knee_X</th>\n",
              "      <th>Right_Knee_Y</th>\n",
              "      <th>Left_Ankle_X</th>\n",
              "      <th>Left_Ankle_Y</th>\n",
              "      <th>Right_Ankle_X</th>\n",
              "      <th>Right_Ankle_Y</th>\n",
              "    </tr>\n",
              "  </thead>\n",
              "  <tbody>\n",
              "    <tr>\n",
              "      <th>0</th>\n",
              "      <td>12002202098</td>\n",
              "      <td>1</td>\n",
              "      <td>536.832198</td>\n",
              "      <td>175.195562</td>\n",
              "      <td>275.183835</td>\n",
              "      <td>299.200492</td>\n",
              "      <td>321.438219</td>\n",
              "      <td>53.586762</td>\n",
              "      <td>438.831630</td>\n",
              "      <td>196.469141</td>\n",
              "      <td>...</td>\n",
              "      <td>355.320493</td>\n",
              "      <td>352.771307</td>\n",
              "      <td>282.603256</td>\n",
              "      <td>245.372110</td>\n",
              "      <td>-71.727270</td>\n",
              "      <td>148.854694</td>\n",
              "      <td>377.204408</td>\n",
              "      <td>118.812093</td>\n",
              "      <td>368.630415</td>\n",
              "      <td>32.683708</td>\n",
              "    </tr>\n",
              "    <tr>\n",
              "      <th>1</th>\n",
              "      <td>11004300163</td>\n",
              "      <td>1</td>\n",
              "      <td>127.299427</td>\n",
              "      <td>213.304615</td>\n",
              "      <td>120.006179</td>\n",
              "      <td>213.098156</td>\n",
              "      <td>119.749502</td>\n",
              "      <td>220.877945</td>\n",
              "      <td>123.240242</td>\n",
              "      <td>213.496218</td>\n",
              "      <td>...</td>\n",
              "      <td>282.739062</td>\n",
              "      <td>217.173672</td>\n",
              "      <td>331.887746</td>\n",
              "      <td>122.399542</td>\n",
              "      <td>369.934428</td>\n",
              "      <td>153.331971</td>\n",
              "      <td>407.764187</td>\n",
              "      <td>54.115847</td>\n",
              "      <td>373.738996</td>\n",
              "      <td>228.353284</td>\n",
              "    </tr>\n",
              "    <tr>\n",
              "      <th>2</th>\n",
              "      <td>18100208242</td>\n",
              "      <td>0</td>\n",
              "      <td>342.735809</td>\n",
              "      <td>75.173884</td>\n",
              "      <td>347.639763</td>\n",
              "      <td>69.066162</td>\n",
              "      <td>337.646757</td>\n",
              "      <td>69.463328</td>\n",
              "      <td>354.332650</td>\n",
              "      <td>70.183796</td>\n",
              "      <td>...</td>\n",
              "      <td>327.693125</td>\n",
              "      <td>175.678139</td>\n",
              "      <td>373.687116</td>\n",
              "      <td>236.403840</td>\n",
              "      <td>330.044019</td>\n",
              "      <td>238.719585</td>\n",
              "      <td>383.867725</td>\n",
              "      <td>289.895923</td>\n",
              "      <td>335.013380</td>\n",
              "      <td>292.018822</td>\n",
              "    </tr>\n",
              "    <tr>\n",
              "      <th>3</th>\n",
              "      <td>18100204340</td>\n",
              "      <td>0</td>\n",
              "      <td>335.262419</td>\n",
              "      <td>161.525842</td>\n",
              "      <td>340.358734</td>\n",
              "      <td>155.666068</td>\n",
              "      <td>329.570863</td>\n",
              "      <td>154.843509</td>\n",
              "      <td>347.034712</td>\n",
              "      <td>154.827196</td>\n",
              "      <td>...</td>\n",
              "      <td>316.727216</td>\n",
              "      <td>218.696415</td>\n",
              "      <td>375.741803</td>\n",
              "      <td>250.993843</td>\n",
              "      <td>285.306140</td>\n",
              "      <td>252.504808</td>\n",
              "      <td>384.364024</td>\n",
              "      <td>298.382275</td>\n",
              "      <td>275.523553</td>\n",
              "      <td>298.044853</td>\n",
              "    </tr>\n",
              "    <tr>\n",
              "      <th>4</th>\n",
              "      <td>12100104261</td>\n",
              "      <td>0</td>\n",
              "      <td>255.488160</td>\n",
              "      <td>62.442478</td>\n",
              "      <td>256.765451</td>\n",
              "      <td>58.603055</td>\n",
              "      <td>251.489867</td>\n",
              "      <td>58.323107</td>\n",
              "      <td>255.327531</td>\n",
              "      <td>55.634296</td>\n",
              "      <td>...</td>\n",
              "      <td>235.763698</td>\n",
              "      <td>136.902009</td>\n",
              "      <td>277.832912</td>\n",
              "      <td>177.679435</td>\n",
              "      <td>229.566259</td>\n",
              "      <td>191.052507</td>\n",
              "      <td>284.397434</td>\n",
              "      <td>213.477405</td>\n",
              "      <td>224.158806</td>\n",
              "      <td>239.154790</td>\n",
              "    </tr>\n",
              "  </tbody>\n",
              "</table>\n",
              "<p>5 rows × 36 columns</p>\n",
              "</div>\n",
              "      <button class=\"colab-df-convert\" onclick=\"convertToInteractive('df-e383bc15-1d35-4c68-aa77-53909efbb838')\"\n",
              "              title=\"Convert this dataframe to an interactive table.\"\n",
              "              style=\"display:none;\">\n",
              "        \n",
              "  <svg xmlns=\"http://www.w3.org/2000/svg\" height=\"24px\"viewBox=\"0 0 24 24\"\n",
              "       width=\"24px\">\n",
              "    <path d=\"M0 0h24v24H0V0z\" fill=\"none\"/>\n",
              "    <path d=\"M18.56 5.44l.94 2.06.94-2.06 2.06-.94-2.06-.94-.94-2.06-.94 2.06-2.06.94zm-11 1L8.5 8.5l.94-2.06 2.06-.94-2.06-.94L8.5 2.5l-.94 2.06-2.06.94zm10 10l.94 2.06.94-2.06 2.06-.94-2.06-.94-.94-2.06-.94 2.06-2.06.94z\"/><path d=\"M17.41 7.96l-1.37-1.37c-.4-.4-.92-.59-1.43-.59-.52 0-1.04.2-1.43.59L10.3 9.45l-7.72 7.72c-.78.78-.78 2.05 0 2.83L4 21.41c.39.39.9.59 1.41.59.51 0 1.02-.2 1.41-.59l7.78-7.78 2.81-2.81c.8-.78.8-2.07 0-2.86zM5.41 20L4 18.59l7.72-7.72 1.47 1.35L5.41 20z\"/>\n",
              "  </svg>\n",
              "      </button>\n",
              "      \n",
              "  <style>\n",
              "    .colab-df-container {\n",
              "      display:flex;\n",
              "      flex-wrap:wrap;\n",
              "      gap: 12px;\n",
              "    }\n",
              "\n",
              "    .colab-df-convert {\n",
              "      background-color: #E8F0FE;\n",
              "      border: none;\n",
              "      border-radius: 50%;\n",
              "      cursor: pointer;\n",
              "      display: none;\n",
              "      fill: #1967D2;\n",
              "      height: 32px;\n",
              "      padding: 0 0 0 0;\n",
              "      width: 32px;\n",
              "    }\n",
              "\n",
              "    .colab-df-convert:hover {\n",
              "      background-color: #E2EBFA;\n",
              "      box-shadow: 0px 1px 2px rgba(60, 64, 67, 0.3), 0px 1px 3px 1px rgba(60, 64, 67, 0.15);\n",
              "      fill: #174EA6;\n",
              "    }\n",
              "\n",
              "    [theme=dark] .colab-df-convert {\n",
              "      background-color: #3B4455;\n",
              "      fill: #D2E3FC;\n",
              "    }\n",
              "\n",
              "    [theme=dark] .colab-df-convert:hover {\n",
              "      background-color: #434B5C;\n",
              "      box-shadow: 0px 1px 3px 1px rgba(0, 0, 0, 0.15);\n",
              "      filter: drop-shadow(0px 1px 2px rgba(0, 0, 0, 0.3));\n",
              "      fill: #FFFFFF;\n",
              "    }\n",
              "  </style>\n",
              "\n",
              "      <script>\n",
              "        const buttonEl =\n",
              "          document.querySelector('#df-e383bc15-1d35-4c68-aa77-53909efbb838 button.colab-df-convert');\n",
              "        buttonEl.style.display =\n",
              "          google.colab.kernel.accessAllowed ? 'block' : 'none';\n",
              "\n",
              "        async function convertToInteractive(key) {\n",
              "          const element = document.querySelector('#df-e383bc15-1d35-4c68-aa77-53909efbb838');\n",
              "          const dataTable =\n",
              "            await google.colab.kernel.invokeFunction('convertToInteractive',\n",
              "                                                     [key], {});\n",
              "          if (!dataTable) return;\n",
              "\n",
              "          const docLinkHtml = 'Like what you see? Visit the ' +\n",
              "            '<a target=\"_blank\" href=https://colab.research.google.com/notebooks/data_table.ipynb>data table notebook</a>'\n",
              "            + ' to learn more about interactive tables.';\n",
              "          element.innerHTML = '';\n",
              "          dataTable['output_type'] = 'display_data';\n",
              "          await google.colab.output.renderOutput(dataTable, element);\n",
              "          const docLink = document.createElement('div');\n",
              "          docLink.innerHTML = docLinkHtml;\n",
              "          element.appendChild(docLink);\n",
              "        }\n",
              "      </script>\n",
              "    </div>\n",
              "  </div>\n",
              "  "
            ]
          },
          "metadata": {},
          "execution_count": 15
        }
      ]
    },
    {
      "cell_type": "code",
      "source": [
        "from model_torch import get_accuracy_torch, train_model_torch, BinaryClassification\n",
        "train_model_torch(training_file, 'version_0')"
      ],
      "metadata": {
        "colab": {
          "base_uri": "https://localhost:8080/"
        },
        "id": "lVJffNQpzwjo",
        "outputId": "9516825e-a07a-4107-e8e5-d003f8481400"
      },
      "execution_count": 17,
      "outputs": [
        {
          "output_type": "stream",
          "name": "stdout",
          "text": [
            "Training on:  data/training_data.json  which has  1000  data-points\n",
            "Epoch 0: Loss 6.108189918821858\n",
            "Epoch 1: Loss 1.5432152893753806\n",
            "Epoch 2: Loss 0.9718629997024114\n",
            "Epoch 3: Loss 0.7866231806232639\n",
            "Epoch 4: Loss 0.56751997365115\n",
            "Epoch 5: Loss 0.5176478891863001\n",
            "Epoch 6: Loss 0.38865605023235894\n",
            "Epoch 7: Loss 0.4058310522496875\n",
            "Epoch 8: Loss 0.2512015529776268\n",
            "Epoch 9: Loss 0.3784227873119747\n",
            "Model saved at:  trained_models_torch/version_0\n"
          ]
        }
      ]
    },
    {
      "cell_type": "code",
      "source": [
        "get_accuracy_torch(golden_testing_file, 'version_0')"
      ],
      "metadata": {
        "colab": {
          "base_uri": "https://localhost:8080/"
        },
        "id": "b6baAvn5zwmE",
        "outputId": "e4060a3e-ff45-4411-be37-7bc6bbc0ad78"
      },
      "execution_count": 18,
      "outputs": [
        {
          "output_type": "stream",
          "name": "stdout",
          "text": [
            "Evaluating model: version_0  on  15731  data-points\n"
          ]
        },
        {
          "output_type": "execute_result",
          "data": {
            "text/plain": [
              "0.9289937066937893"
            ]
          },
          "metadata": {},
          "execution_count": 18
        }
      ]
    },
    {
      "cell_type": "code",
      "source": [
        "checks = [{\n",
        "        'type': uptrain.Anomaly.DATA_DRIFT,\n",
        "        'reference_dataset': orig_training_file,\n",
        "        'is_embedding': True,\n",
        "        \"measurable_args\": {\n",
        "            'type': uptrain.MeasurableType.INPUT_FEATURE,\n",
        "            'feature_name': 'kps'   # keypoints\n",
        "        },\n",
        "    }]\n",
        "\n",
        "print(\"Data Drift checks: \", checks)"
      ],
      "metadata": {
        "colab": {
          "base_uri": "https://localhost:8080/"
        },
        "id": "vHCYN3Cdzwos",
        "outputId": "b11ddcad-a9d8-4b04-fd5e-3c5a0a612e47"
      },
      "execution_count": 19,
      "outputs": [
        {
          "output_type": "stream",
          "name": "stdout",
          "text": [
            "Data Drift checks:  [{'type': <Anomaly.DATA_DRIFT: 'data_drift'>, 'reference_dataset': 'data/training_data.json', 'is_embedding': True, 'measurable_args': {'type': <MeasurableType.INPUT_FEATURE: 'input_feature'>, 'feature_name': 'kps'}}]\n"
          ]
        }
      ]
    },
    {
      "cell_type": "code",
      "source": [
        "training_args = {\n",
        "    \"annotation_method\": {\"method\": uptrain.AnnotationMethod.MASTER_FILE, \"args\": annotation_args}, \n",
        "    \"training_func\": train_model_torch, \n",
        "    \"orig_training_file\": orig_training_file,\n",
        "}\n",
        "\n",
        "# Define evaluation pipeline to test retrained model against original model\n",
        "evaluation_args = {\n",
        "    \"inference_func\": get_accuracy_torch,\n",
        "    \"golden_testing_dataset\": golden_testing_file,\n",
        "}\n",
        "\n",
        "print(\"Training Pipelines: \", training_args, \"\\n\")\n",
        "print(\"Evaluation Pipelines: \", evaluation_args)"
      ],
      "metadata": {
        "colab": {
          "base_uri": "https://localhost:8080/"
        },
        "id": "fG_HaJZ7zwrJ",
        "outputId": "61b1573a-1041-4dcf-d23e-b945aa866d28"
      },
      "execution_count": 20,
      "outputs": [
        {
          "output_type": "stream",
          "name": "stdout",
          "text": [
            "Training Pipelines:  {'annotation_method': {'method': <AnnotationMethod.MASTER_FILE: 1>, 'args': {'master_file': 'data/master_annotation_data.json'}}, 'training_func': <function train_model_torch at 0x7f629935a700>, 'orig_training_file': 'data/training_data.json'} \n",
            "\n",
            "Evaluation Pipelines:  {'inference_func': <function get_accuracy_torch at 0x7f629935a3a0>, 'golden_testing_dataset': 'data/golden_testing_data.json'}\n"
          ]
        }
      ]
    },
    {
      "cell_type": "code",
      "source": [
        "cfg = {\n",
        "    \"checks\": checks, \n",
        "    \"training_args\": training_args,\n",
        "    \"evaluation_args\": evaluation_args,\n",
        "\n",
        "    # Retrain when 200 datapoints are collected in the retraining dataset\n",
        "    \"retrain_after\": 200,\n",
        "    \n",
        "    # A local folder to store the retraining dataset\n",
        "    \"retraining_folder\": \"uptrain_smart_data\",\n",
        "    \n",
        "    # A function to visualize clusters in the data\n",
        "    \"cluster_visualize_func\": plot_all_cluster,\n",
        "}\n",
        "\n",
        "# Initialize the UpTrain framework object with config \n",
        "framework = uptrain.Framework(cfg)\n",
        "print(\"Successfully Initialized UpTrain Framework\")"
      ],
      "metadata": {
        "colab": {
          "base_uri": "https://localhost:8080/"
        },
        "id": "cSY_b69rzwt1",
        "outputId": "d472ad87-f88d-463f-fa4e-bfe3ad007bf6"
      },
      "execution_count": 21,
      "outputs": [
        {
          "output_type": "stream",
          "name": "stdout",
          "text": [
            "Successfully Initialized UpTrain Framework\n"
          ]
        }
      ]
    },
    {
      "cell_type": "code",
      "source": [
        "inference_batch_size = 16\n",
        "model_dir = 'trained_models_torch/'\n",
        "model_save_name = 'version_0'\n",
        "real_world_dataset = KpsDataset(\n",
        "    real_world_test_cases, batch_size=inference_batch_size, is_test=True\n",
        ")\n",
        "model = BinaryClassification()\n",
        "model.load_state_dict(torch.load(model_dir + model_save_name))\n",
        "model.eval()\n",
        "\n",
        "for i,elem in enumerate(real_world_dataset):\n",
        "\n",
        "    # Do model prediction\n",
        "    inputs = {\"data\": {\"kps\": elem[0][\"kps\"]}, \"id\": elem[0][\"id\"]}\n",
        "    x_test = torch.tensor(inputs[\"data\"][\"kps\"]).type(torch.float)\n",
        "    test_logits = model(x_test).squeeze() \n",
        "    preds = torch.round(torch.sigmoid(test_logits)).detach().numpy()\n",
        "\n",
        "    # Log model inputs and outputs to the uptrain Framework to monitor data drift\n",
        "    idens = framework.log(inputs=inputs, outputs=preds)\n",
        "\n",
        "    # Retrain only once\n",
        "    if framework.version > 1:\n",
        "        break"
      ],
      "metadata": {
        "colab": {
          "base_uri": "https://localhost:8080/"
        },
        "id": "kyDttW57zwwP",
        "outputId": "514564b0-da50-487d-c310-9de0d91645bc"
      },
      "execution_count": 22,
      "outputs": [
        {
          "output_type": "stream",
          "name": "stdout",
          "text": [
            "50  edge cases identified out of  13424  total samples\n",
            "101  edge cases identified out of  15792  total samples\n",
            "150  edge cases identified out of  24128  total samples\n",
            "200  edge cases identified out of  26608  total samples\n",
            "\n",
            "Kicking off re-training\n",
            "Creating retraining dataset: uptrain_smart_data/1/training_dataset.json  by merging  data/training_data.json  and collected edge cases.\n",
            "\n",
            "Training on:  uptrain_smart_data/1/training_dataset.json  which has  2005  data-points\n",
            "Epoch 0: Loss 6.547668820619583\n",
            "Epoch 1: Loss 2.09667319195981\n",
            "Epoch 2: Loss 0.9921911590879351\n",
            "Epoch 3: Loss 0.5552357899793435\n",
            "Epoch 4: Loss 0.3871322651299773\n",
            "Epoch 5: Loss 0.28291736927766714\n",
            "Epoch 6: Loss 0.22658223121639368\n",
            "Epoch 7: Loss 0.1783210203748492\n",
            "Epoch 8: Loss 0.11531238443450138\n",
            "Epoch 9: Loss 0.13162718854009495\n",
            "Model saved at:  trained_models_torch/version_1\n",
            "Model retraining done...\n",
            "\n",
            "Generating comparison report...\n",
            "Evaluating model: version_0  on  15731  data-points\n",
            "Evaluating model: version_1  on  15731  data-points\n",
            "---------------------------------------------\n",
            "---------------------------------------------\n",
            "Old model accuracy:  0.9289937066937893\n",
            "Retrained model accuracy (ie 201 smartly collected data-points added):  0.9838535376009154\n",
            "---------------------------------------------\n",
            "---------------------------------------------\n"
          ]
        }
      ]
    },
    {
      "cell_type": "code",
      "source": [],
      "metadata": {
        "id": "9UoTME8uzwy2"
      },
      "execution_count": null,
      "outputs": []
    },
    {
      "cell_type": "code",
      "source": [],
      "metadata": {
        "id": "V7anwZsOzw1X"
      },
      "execution_count": null,
      "outputs": []
    },
    {
      "cell_type": "code",
      "source": [],
      "metadata": {
        "id": "-9EDnx6Mzw4C"
      },
      "execution_count": null,
      "outputs": []
    },
    {
      "cell_type": "code",
      "source": [],
      "metadata": {
        "id": "dIBzN0dZzw6k"
      },
      "execution_count": null,
      "outputs": []
    },
    {
      "cell_type": "code",
      "source": [],
      "metadata": {
        "id": "mG3FBotNzw9H"
      },
      "execution_count": null,
      "outputs": []
    },
    {
      "cell_type": "code",
      "source": [],
      "metadata": {
        "id": "MkGzClXizw_x"
      },
      "execution_count": null,
      "outputs": []
    },
    {
      "cell_type": "code",
      "source": [],
      "metadata": {
        "id": "yYhhmUNHzxCV"
      },
      "execution_count": null,
      "outputs": []
    },
    {
      "cell_type": "code",
      "source": [],
      "metadata": {
        "id": "BnzvfVjQzxE7"
      },
      "execution_count": null,
      "outputs": []
    },
    {
      "cell_type": "code",
      "source": [],
      "metadata": {
        "id": "Ygl0L8O1zxHa"
      },
      "execution_count": null,
      "outputs": []
    },
    {
      "cell_type": "code",
      "source": [],
      "metadata": {
        "id": "76HbdMujzxJw"
      },
      "execution_count": null,
      "outputs": []
    },
    {
      "cell_type": "code",
      "source": [],
      "metadata": {
        "id": "2I-yH2wozxMa"
      },
      "execution_count": null,
      "outputs": []
    },
    {
      "cell_type": "code",
      "source": [],
      "metadata": {
        "id": "givCUCkUzxPO"
      },
      "execution_count": null,
      "outputs": []
    },
    {
      "cell_type": "code",
      "source": [],
      "metadata": {
        "id": "Kd3a9SFfzxR-"
      },
      "execution_count": null,
      "outputs": []
    },
    {
      "cell_type": "code",
      "source": [],
      "metadata": {
        "id": "VU_RnKryzxUn"
      },
      "execution_count": null,
      "outputs": []
    },
    {
      "cell_type": "code",
      "source": [],
      "metadata": {
        "id": "EjyBGv0IzxXX"
      },
      "execution_count": null,
      "outputs": []
    },
    {
      "cell_type": "code",
      "source": [],
      "metadata": {
        "id": "1tjq6LEAzxaC"
      },
      "execution_count": null,
      "outputs": []
    },
    {
      "cell_type": "code",
      "source": [],
      "metadata": {
        "id": "ji-ojbNbzxc5"
      },
      "execution_count": null,
      "outputs": []
    },
    {
      "cell_type": "code",
      "source": [],
      "metadata": {
        "id": "Uov--P57zxfg"
      },
      "execution_count": null,
      "outputs": []
    },
    {
      "cell_type": "code",
      "source": [],
      "metadata": {
        "id": "44AbB2P2zxiC"
      },
      "execution_count": null,
      "outputs": []
    },
    {
      "cell_type": "code",
      "source": [],
      "metadata": {
        "id": "jb_lITtTzxkv"
      },
      "execution_count": null,
      "outputs": []
    },
    {
      "cell_type": "code",
      "source": [],
      "metadata": {
        "id": "GJLY83b0zxnP"
      },
      "execution_count": null,
      "outputs": []
    },
    {
      "cell_type": "code",
      "source": [],
      "metadata": {
        "id": "IjmmdZoLzxp-"
      },
      "execution_count": null,
      "outputs": []
    },
    {
      "cell_type": "code",
      "source": [],
      "metadata": {
        "id": "PE-LMqWxzxsc"
      },
      "execution_count": null,
      "outputs": []
    },
    {
      "cell_type": "code",
      "source": [],
      "metadata": {
        "id": "aMO9f1ldzxvR"
      },
      "execution_count": null,
      "outputs": []
    },
    {
      "cell_type": "code",
      "source": [],
      "metadata": {
        "id": "Stda1ovTzxxw"
      },
      "execution_count": null,
      "outputs": []
    },
    {
      "cell_type": "code",
      "source": [],
      "metadata": {
        "id": "JbF1SuHSzx0d"
      },
      "execution_count": null,
      "outputs": []
    },
    {
      "cell_type": "code",
      "source": [],
      "metadata": {
        "id": "IAvdoOlkzx2-"
      },
      "execution_count": null,
      "outputs": []
    },
    {
      "cell_type": "code",
      "source": [],
      "metadata": {
        "id": "PMWuLjZezx5z"
      },
      "execution_count": null,
      "outputs": []
    }
  ]
}